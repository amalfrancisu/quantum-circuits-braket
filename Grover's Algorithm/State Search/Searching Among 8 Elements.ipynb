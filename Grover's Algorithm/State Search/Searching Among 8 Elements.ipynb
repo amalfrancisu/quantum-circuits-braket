{
 "cells": [
  {
   "cell_type": "markdown",
   "id": "6ec21fcb",
   "metadata": {},
   "source": [
    "# Grover's Algorithm"
   ]
  },
  {
   "cell_type": "markdown",
   "id": "99ef0cd4",
   "metadata": {},
   "source": [
    "## Searching Among 8 Elements"
   ]
  },
  {
   "cell_type": "markdown",
   "id": "79a7df7c",
   "metadata": {},
   "source": [
    "### Introduction\n",
    "\n",
    "Searching among 8 elements is an extension of the searching among 4 elements that we previously saw. Here we have created a custom Cz gate that is used for inverting. As for any Grover's algorithm here it is then passed through an Oracle and then through an Amplifier. The below diagram can be referred to get a clear understanding of how the Circuit is created.\n",
    "\n",
    "\n",
    "### Circuit diagram\n",
    "\n",
    "\n",
    "<img src=\"images/search8.jpg\" alt=\"drawing\" width=\"700\"/>"
   ]
  },
  {
   "cell_type": "markdown",
   "id": "db38ee04",
   "metadata": {},
   "source": [
    "## Code"
   ]
  },
  {
   "cell_type": "markdown",
   "id": "a7b157e5",
   "metadata": {},
   "source": [
    "### Importing Libraries"
   ]
  },
  {
   "cell_type": "code",
   "execution_count": 4,
   "id": "a25d4443",
   "metadata": {},
   "outputs": [],
   "source": [
    "import boto3\n",
    "from braket.circuits import Circuit\n",
    "from braket.aws import AwsDevice\n",
    "import matplotlib.pyplot as plt\n",
    "from braket.devices import LocalSimulator\n",
    "import numpy as np"
   ]
  },
  {
   "cell_type": "code",
   "execution_count": 5,
   "id": "bb9a7bfd",
   "metadata": {},
   "outputs": [],
   "source": [
    "# Connnecting with the aws account id and initialising the device\n",
    "aws_account_id = boto3.client(\"sts\").get_caller_identity()[\"Account\"]\n",
    "device = LocalSimulator()\n",
    "s3_folder = (f\"amazon-braket-1c440ad1b4a7\",\"Simulator\")"
   ]
  },
  {
   "cell_type": "markdown",
   "id": "07eff577",
   "metadata": {},
   "source": [
    "## Implementing Search on a Classical System"
   ]
  },
  {
   "cell_type": "code",
   "execution_count": 2,
   "id": "a8fb3b45",
   "metadata": {},
   "outputs": [
    {
     "name": "stdout",
     "output_type": "stream",
     "text": [
      "Element Found At Index 7\n"
     ]
    }
   ],
   "source": [
    "elements = [1,2,3,4,5,6,7,8]\n",
    "\n",
    "\n",
    "to_find=8\n",
    "i=0\n",
    "flag=0\n",
    "for i in range(len(elements)): \n",
    "    if(to_find == elements[i]):\n",
    "        flag=1\n",
    "        break\n",
    "\n",
    "if( flag == 0 ):\n",
    "    print('Element Not Found')\n",
    "else:\n",
    "    print('Element Found At Index',i)"
   ]
  },
  {
   "cell_type": "markdown",
   "id": "671b9eb1",
   "metadata": {},
   "source": [
    "## Implementing Search on a Quantum System"
   ]
  },
  {
   "cell_type": "code",
   "execution_count": 4,
   "id": "abdaa0e4",
   "metadata": {},
   "outputs": [],
   "source": [
    "to_find='001'"
   ]
  },
  {
   "cell_type": "markdown",
   "id": "29c9821b",
   "metadata": {},
   "source": [
    "### Oracle Operator"
   ]
  },
  {
   "cell_type": "code",
   "execution_count": 5,
   "id": "7b97b859",
   "metadata": {},
   "outputs": [
    {
     "name": "stdout",
     "output_type": "stream",
     "text": [
      "The Grover Initial Part is\n",
      "T  : |0|\n",
      "        \n",
      "q0 : -H-\n",
      "        \n",
      "q1 : -H-\n",
      "        \n",
      "q2 : -H-\n",
      "\n",
      "T  : |0| \n",
      "\n",
      "\n",
      "The Oracle Initial Part is\n",
      "T  : |0|1|2|\n",
      "            \n",
      "q0 : -X-U-X-\n",
      "        |   \n",
      "q1 : -X-U-X-\n",
      "        |   \n",
      "q2 : ---U---\n",
      "\n",
      "T  : |0|1|2|\n"
     ]
    }
   ],
   "source": [
    "temp=[]\n",
    "\n",
    "for i in range(8):\n",
    "    temp.append([])\n",
    "    for j in range(8):\n",
    "        \n",
    "        if(i == j):\n",
    "            if(i == 7):\n",
    "                temp[i].append(-1.0)\n",
    "            else:\n",
    "                temp[i].append(1.0)\n",
    "        else:\n",
    "            temp[i].append(0.0)\n",
    "\n",
    "            \n",
    "cz_matrix=np.array(temp)\n",
    "\n",
    "grover = Circuit()\n",
    "grover.h([0,1,2])\n",
    "\n",
    "cz_gate = Circuit().unitary(matrix=cz_matrix, targets=[0,1,2])\n",
    "\n",
    "oracle = Circuit()\n",
    "\n",
    "if (to_find == '000'):\n",
    "    oracle.x([0,1,2]).add(cz_gate).x([0,1,2])\n",
    "    \n",
    "elif (to_find == '001'):\n",
    "    oracle.x([0,1]).add(cz_gate).x([0,1])\n",
    "    \n",
    "elif (to_find == '010'):\n",
    "    oracle.x([0,2]).add(cz_gate).x([0,2])\n",
    "    \n",
    "elif (to_find == '011'):\n",
    "    oracle.x([0]).add(cz_gate).x([0])\n",
    "    \n",
    "elif (to_find == '100'):\n",
    "    oracle.x([1,2]).add(cz_gate).x([1,2])\n",
    "    \n",
    "elif (to_find == '101'):\n",
    "    oracle.x([1]).add(cz_gate).x([1])\n",
    "    \n",
    "elif (to_find == '110'):\n",
    "    oracle.x([2]).add(cz_gate).x([2])\n",
    "    \n",
    "elif (to_find == '111'):\n",
    "    oracle.add(cz_gate)\n",
    "\n",
    "\n",
    "print('The Grover Initial Part is')\n",
    "print(grover,'\\n\\n')\n",
    "\n",
    "print('The Oracle Initial Part is')\n",
    "print(oracle)"
   ]
  },
  {
   "cell_type": "markdown",
   "id": "d6a7f4bd",
   "metadata": {},
   "source": [
    "### Adding the Amplification Operator To the Circuit"
   ]
  },
  {
   "cell_type": "code",
   "execution_count": 6,
   "id": "ac04c5da",
   "metadata": {},
   "outputs": [
    {
     "name": "stdout",
     "output_type": "stream",
     "text": [
      "The Amplification Initial Part is\n",
      "T  : |0|1|2|3|4|\n",
      "                \n",
      "q0 : -H-X-U-X-H-\n",
      "          |     \n",
      "q1 : -H-X-U-X-H-\n",
      "          |     \n",
      "q2 : -H-X-U-X-H-\n",
      "\n",
      "T  : |0|1|2|3|4|\n"
     ]
    }
   ],
   "source": [
    "amplify = Circuit()\n",
    "\n",
    "amplify.h([0,1,2])\n",
    "amplify.x([0,1,2]).unitary(matrix=cz_matrix, targets=[0,1,2]).x([0,1,2])\n",
    "amplify.h([0,1,2])\n",
    "\n",
    "print('The Amplification Initial Part is')\n",
    "print(amplify)"
   ]
  },
  {
   "cell_type": "markdown",
   "id": "890930fa",
   "metadata": {},
   "source": [
    "### Combine Circuit Components"
   ]
  },
  {
   "cell_type": "code",
   "execution_count": 7,
   "id": "88c09703",
   "metadata": {},
   "outputs": [
    {
     "name": "stdout",
     "output_type": "stream",
     "text": [
      "T  : |0|1|2|3|4|5|6|7|8|\n",
      "                        \n",
      "q0 : -H-X-U-X-H-X-U-X-H-\n",
      "          |       |     \n",
      "q1 : -H-X-U-X-H-X-U-X-H-\n",
      "          |       |     \n",
      "q2 : -H---U-H-X---U-X-H-\n",
      "\n",
      "T  : |0|1|2|3|4|5|6|7|8|\n"
     ]
    }
   ],
   "source": [
    "grover.add(oracle)\n",
    "grover.add(amplify)\n",
    "\n",
    "print(grover)"
   ]
  },
  {
   "cell_type": "markdown",
   "id": "8274f255",
   "metadata": {},
   "source": [
    "## Run the Circuit To Verify"
   ]
  },
  {
   "cell_type": "code",
   "execution_count": 8,
   "id": "8fd3a03b",
   "metadata": {},
   "outputs": [
    {
     "name": "stdout",
     "output_type": "stream",
     "text": [
      "Counter({'001': 782, '111': 39, '101': 38, '100': 38, '011': 28, '010': 27, '000': 27, '110': 21})\n"
     ]
    }
   ],
   "source": [
    "counts = device.run(grover, shots = 1000).result().measurement_counts\n",
    "print(counts)"
   ]
  },
  {
   "cell_type": "markdown",
   "id": "8bd01e0e",
   "metadata": {},
   "source": [
    "## Plotting Results\n"
   ]
  },
  {
   "cell_type": "code",
   "execution_count": 11,
   "id": "8ace97e2",
   "metadata": {},
   "outputs": [
    {
     "data": {
      "image/png": "[encoded data removed]",
      "text/plain": [
       "<Figure size 1000x500 with 1 Axes>"
      ]
     },
     "metadata": {},
     "output_type": "display_data"
    }
   ],
   "source": [
    "solutions=[]\n",
    "total_times=[]\n",
    "\n",
    "for key, value in counts.items():\n",
    "    if(key[:4] not in solutions):\n",
    "        solutions.append(key[:4])\n",
    "        total_times.append(0)\n",
    "    total_times[solutions.index(key[:4])] += value\n",
    "    \n",
    "    \n",
    "\n",
    "  \n",
    "fig = plt.figure(figsize = (10, 5))\n",
    " \n",
    "plt.bar(solutions, total_times, color ='blue', width = 0.4)\n",
    " \n",
    "plt.xlabel(\"Final Output\")\n",
    "plt.ylabel(\"No. of Times Occured\")\n",
    "plt.title(\"Element Searched\")\n",
    "plt.show()"
   ]
  },
  {
   "cell_type": "markdown",
   "id": "896aaff6",
   "metadata": {},
   "source": [
    "#### Sometimes Value may come wrong due to the noise. Do run the algorithm  again to find the correct output."
   ]
  },
  {
   "cell_type": "markdown",
   "id": "a3ff94b5",
   "metadata": {},
   "source": [
    "#### Hence from the above graph we can conclude that the state with higher number of occurrence is same as the state that we searched for."
   ]
  }
 ],
 "metadata": {
  "kernelspec": {
   "display_name": "conda_braket",
   "language": "python",
   "name": "conda_braket"
  },
  "language_info": {
   "codemirror_mode": {
    "name": "ipython",
    "version": 3
   },
   "file_extension": ".py",
   "mimetype": "text/x-python",
   "name": "python",
   "nbconvert_exporter": "python",
   "pygments_lexer": "ipython3",
   "version": "3.7.11"
  }
 },
 "nbformat": 4,
 "nbformat_minor": 5
}
