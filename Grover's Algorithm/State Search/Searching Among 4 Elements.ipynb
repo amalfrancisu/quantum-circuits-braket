{
 "cells": [
  {
   "cell_type": "markdown",
   "id": "8d93f094",
   "metadata": {},
   "source": [
    "# Grover's Algorithm"
   ]
  },
  {
   "cell_type": "markdown",
   "id": "0fd02ee1",
   "metadata": {},
   "source": [
    "## Introduction"
   ]
  },
  {
   "cell_type": "markdown",
   "id": "2a0434cb",
   "metadata": {},
   "source": [
    "Grover’s algorithm is a quantum search algorithm which can be used to search through an unstructured space. It is able to provide a quadratic speedup over the best classical algorithms. The reason for the popularity of the Grover’s algorithm is due to the importance searching has had over the last century to resolve various issues. Some of the applications of the Grover’s algorithm include that they can provide statistical information such as minimal, mean, median from an unordered dataset much faster than a classical algorithm. It can be used to speed up several problems and along with this the time it takes to search for a key can be drastically reduced using this algorithm.\n",
    "\n",
    "## Components\n",
    "\n",
    "The Components Used As Part Of Grover’s Algorithm:\n",
    "\n",
    "- The Oracle: Depending on the problem, the oracle function varies. From the output that we receive after the application of the Hadamard gate, we see that each state has the same probability of being measured. Once they provide the state that we want to search for, the Oracle function will invert the amplitude (multiply with -1) the state which we are searching for.\n",
    "\n",
    "\n",
    "<table>\n",
    "    <tr><th><center><i><h3>Before Inverting</h3></i></center></th><th><center><i><h3>After Inverting</h3></i></center></th></tr>\n",
    "    <tr>\n",
    "<td> <img src=\"images/grover1.PNG\" alt=\"Drawing\" width=\"300\"/> </td>\n",
    "<td> <img src=\"images/grover2.PNG\" alt=\"Drawing\" width=\"300\"/> </td>\n",
    "</tr>\n",
    "</table>\n",
    "\n",
    "\n",
    "\n",
    "\n",
    "- The Diffuser: Once we invert the amplitude of the target state, we then amplify this state using the amplification operator. We do this on measurement, this state has the most probability of getting selected. Applying this operator after the oracle will move the resultant vector closer to our target state. Hence the more we apply both operators, the closer we move towards the target and the probability of a right answer also increases. We increase its amplitude and at  the same time shrink the amplitude of all other states.\n",
    "\n",
    "<h4><center><i>After Amplifying</i></center></h4>\n",
    "<img src=\"images/grover3.PNG\" alt=\"drawing\" width=\"300\"/>\n",
    "\n",
    "\n",
    "## Complexity\n",
    "\n",
    "Through experiments it will be found that doing this algorithm O(sqrt(n)) times is enough to obtain the right answer, hence it provides a quadratic speedup over the best known classical algorithm to search in an unstructured space which takes O(n) time.\n",
    "\n",
    "For our initial work, we started by implementing Grover's algorithm on a search space of 4 elements. Once we were able to successfully implement this on Amazon Braket, we expanded our search space to 8 elements. We continued testing the capabilities of the system by then testing in on a search space of 16 elements where we prepared 1000 qubits identically and tested the number of times the searched space was returned.\n",
    "\n",
    "## Circuit Diagram\n",
    "\n",
    "<img src=\"images/grover4.jpg\" alt=\"drawing\" width=\"700\"/>\n"
   ]
  },
  {
   "cell_type": "markdown",
   "id": "2deb5d15",
   "metadata": {},
   "source": [
    "## Code"
   ]
  },
  {
   "cell_type": "markdown",
   "id": "b94480ea",
   "metadata": {},
   "source": [
    "### Importing Libraries"
   ]
  },
  {
   "cell_type": "code",
   "execution_count": 10,
   "id": "def66a3e",
   "metadata": {},
   "outputs": [],
   "source": [
    "import boto3\n",
    "from braket.circuits import Circuit\n",
    "from braket.aws import AwsDevice\n",
    "import matplotlib.pyplot as plt\n",
    "from braket.devices import LocalSimulator\n",
    "import numpy as np"
   ]
  },
  {
   "cell_type": "code",
   "execution_count": 11,
   "id": "938bbc9e",
   "metadata": {},
   "outputs": [],
   "source": [
    "aws_account_id = boto3.client(\"sts\").get_caller_identity()[\"Account\"]\n",
    "device = LocalSimulator()\n",
    "s3_folder = (f\"amazon-braket-1c440ad1b4a7\",\"Simulator\")\n"
   ]
  },
  {
   "cell_type": "markdown",
   "id": "63e2b389",
   "metadata": {},
   "source": [
    "## Implementing Search on a Classical System"
   ]
  },
  {
   "cell_type": "code",
   "execution_count": 12,
   "id": "3eb6606b",
   "metadata": {},
   "outputs": [
    {
     "name": "stdout",
     "output_type": "stream",
     "text": [
      "Element Not Found\n"
     ]
    }
   ],
   "source": [
    "elements = [1,2,3,4,5,6,7,8,9]\n",
    "\n",
    "\n",
    "to_find=12\n",
    "i=0\n",
    "flag=0\n",
    "for i in range(len(elements)): \n",
    "    if(to_find == elements[i]):\n",
    "        flag=1\n",
    "        break\n",
    "\n",
    "if( flag == 0 ):\n",
    "    print('Element Not Found')\n",
    "else:\n",
    "    print('Element Found At Index',i)"
   ]
  },
  {
   "cell_type": "markdown",
   "id": "e2279572",
   "metadata": {},
   "source": [
    "## Implementing Search on a Quantum System"
   ]
  },
  {
   "cell_type": "markdown",
   "id": "54a1f223",
   "metadata": {},
   "source": [
    "### Oracle Operator"
   ]
  },
  {
   "cell_type": "code",
   "execution_count": 13,
   "id": "c3af9cec",
   "metadata": {},
   "outputs": [
    {
     "name": "stdout",
     "output_type": "stream",
     "text": [
      "T  : |0|1|\n",
      "          \n",
      "q0 : -H-U-\n",
      "        | \n",
      "q1 : -H-U-\n",
      "\n",
      "T  : |0|1|\n"
     ]
    }
   ],
   "source": [
    "## If the Element to Find is 01\n",
    "\n",
    "temp=[]\n",
    "\n",
    "for i in range(4):\n",
    "    temp.append([])\n",
    "    for j in range(4):\n",
    "        \n",
    "        if(i == j):\n",
    "            if(i == 1):\n",
    "                temp[i].append(-1.0)\n",
    "            else:\n",
    "                temp[i].append(1.0)\n",
    "        else:\n",
    "            temp[i].append(0.0)\n",
    "\n",
    "cz_matrix=np.array(temp)\n",
    "grover = Circuit()\n",
    "\n",
    "grover.h([0,1])\n",
    "# grover.cz(0,1)\n",
    "\n",
    "grover.unitary(matrix=cz_matrix, targets=[0,1])\n",
    "\n",
    "print(grover)\n"
   ]
  },
  {
   "cell_type": "markdown",
   "id": "c4b0cbe2",
   "metadata": {},
   "source": [
    "### Adding the Amplification Operator To the Circuit"
   ]
  },
  {
   "cell_type": "code",
   "execution_count": 5,
   "id": "4628a7cc",
   "metadata": {},
   "outputs": [
    {
     "name": "stdout",
     "output_type": "stream",
     "text": [
      "T  : |0|1|2|3|4|5|\n",
      "                  \n",
      "q0 : -H-U-H-Z-C-H-\n",
      "        |     |   \n",
      "q1 : -H-U-H-Z-Z-H-\n",
      "\n",
      "T  : |0|1|2|3|4|5|\n"
     ]
    }
   ],
   "source": [
    "grover.h([0,1])\n",
    "grover.z([0,1])\n",
    "grover.cz(0,1)\n",
    "grover.h([0,1])\n",
    "\n",
    "\n",
    "print(grover)"
   ]
  },
  {
   "cell_type": "markdown",
   "id": "efdb64c3",
   "metadata": {},
   "source": [
    "## Run the Circuit To Verify"
   ]
  },
  {
   "cell_type": "code",
   "execution_count": 6,
   "id": "235c2005",
   "metadata": {},
   "outputs": [
    {
     "name": "stdout",
     "output_type": "stream",
     "text": [
      "Counter({'01': 1000})\n"
     ]
    }
   ],
   "source": [
    "counts = device.run(grover, shots = 1000).result().measurement_counts\n",
    "print(counts)"
   ]
  },
  {
   "cell_type": "markdown",
   "id": "d5b07ed4",
   "metadata": {},
   "source": [
    "## Plotting Results\n"
   ]
  },
  {
   "cell_type": "code",
   "execution_count": 7,
   "id": "fc7b89a1",
   "metadata": {},
   "outputs": [
    {
     "data": {
      "image/png": "[encoded data removed]",
      "text/plain": [
       "<Figure size 1000x500 with 1 Axes>"
      ]
     },
     "metadata": {},
     "output_type": "display_data"
    }
   ],
   "source": [
    "solutions=[]\n",
    "total_times=[]\n",
    "\n",
    "for key, value in counts.items():\n",
    "    if(key[:4] not in solutions):\n",
    "        solutions.append(key[:4])\n",
    "        total_times.append(0)\n",
    "    total_times[solutions.index(key[:4])] += value\n",
    "    \n",
    "    \n",
    "\n",
    "  \n",
    "fig = plt.figure(figsize = (10, 5))\n",
    " \n",
    "plt.bar(solutions, total_times, color ='blue', width = 0.4)\n",
    " \n",
    "plt.xlabel(\"Final Output\")\n",
    "plt.ylabel(\"No. of Times Occured\")\n",
    "plt.title(\"Element Searched\")\n",
    "plt.show()"
   ]
  }
 ],
 "metadata": {
  "kernelspec": {
   "display_name": "conda_braket",
   "language": "python",
   "name": "conda_braket"
  },
  "language_info": {
   "codemirror_mode": {
    "name": "ipython",
    "version": 3
   },
   "file_extension": ".py",
   "mimetype": "text/x-python",
   "name": "python",
   "nbconvert_exporter": "python",
   "pygments_lexer": "ipython3",
   "version": "3.7.11"
  }
 },
 "nbformat": 4,
 "nbformat_minor": 5
}
