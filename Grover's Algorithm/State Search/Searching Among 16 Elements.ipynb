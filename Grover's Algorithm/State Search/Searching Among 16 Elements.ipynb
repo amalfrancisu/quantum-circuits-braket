{
 "cells": [
  {
   "cell_type": "markdown",
   "id": "8cc7bfdc",
   "metadata": {},
   "source": [
    "# Grover's Algorithm"
   ]
  },
  {
   "cell_type": "markdown",
   "id": "111f37f7",
   "metadata": {},
   "source": [
    "## Searching Among 16 Elements"
   ]
  },
  {
   "cell_type": "markdown",
   "id": "c1ed367b",
   "metadata": {},
   "source": [
    "### Introduction"
   ]
  },
  {
   "cell_type": "markdown",
   "id": "94ae9318",
   "metadata": {},
   "source": [
    "Searching among 16 elements is an extension of the searching among 4 and 8 elements that we previously saw. Similar to the previous case we have created a custom Cz gate that is used for inverting. As for any Grover's algorithm here it is then passed through an Oracle and then through an Amplifier. The below diagram can be referred to get a clear understanding of how the Circuit is created."
   ]
  },
  {
   "cell_type": "markdown",
   "id": "f0f4fc88",
   "metadata": {},
   "source": [
    "### Circuit Diagram"
   ]
  },
  {
   "cell_type": "markdown",
   "id": "a7684c40",
   "metadata": {},
   "source": [
    "\n",
    "<img src=\"images/search16.jpg\" alt=\"drawing\" width=\"600\"/>"
   ]
  },
  {
   "cell_type": "markdown",
   "id": "7a41ef2e",
   "metadata": {},
   "source": [
    "### Code"
   ]
  },
  {
   "cell_type": "markdown",
   "id": "c6f27cab",
   "metadata": {},
   "source": [
    "#### Importing Libraries"
   ]
  },
  {
   "cell_type": "code",
   "execution_count": 1,
   "id": "8344c8b4",
   "metadata": {},
   "outputs": [],
   "source": [
    "import boto3\n",
    "from braket.circuits import Circuit\n",
    "from braket.aws import AwsDevice\n",
    "import matplotlib.pyplot as plt\n",
    "from braket.devices import LocalSimulator\n",
    "import numpy as np"
   ]
  },
  {
   "cell_type": "code",
   "execution_count": 2,
   "id": "f092112a",
   "metadata": {},
   "outputs": [],
   "source": [
    "aws_account_id = boto3.client(\"sts\").get_caller_identity()[\"Account\"]\n",
    "device = LocalSimulator()\n",
    "s3_folder = (f\"amazon-braket-1c440ad1b4a7\",\"Simulator\")\n"
   ]
  },
  {
   "cell_type": "markdown",
   "id": "bbf2dc23",
   "metadata": {},
   "source": [
    "## Implementing Search on a Classical System"
   ]
  },
  {
   "cell_type": "code",
   "execution_count": 3,
   "id": "e1760e96",
   "metadata": {},
   "outputs": [
    {
     "name": "stdout",
     "output_type": "stream",
     "text": [
      "Element Found At Index 7\n"
     ]
    }
   ],
   "source": [
    "elements = [1,2,3,4,5,6,7,8,9]\n",
    "\n",
    "\n",
    "to_find=8\n",
    "i=0\n",
    "flag=0\n",
    "for i in range(len(elements)): \n",
    "    if(to_find == elements[i]):\n",
    "        flag=1\n",
    "        break\n",
    "\n",
    "if( flag == 0 ):\n",
    "    print('Element Not Found')\n",
    "else:\n",
    "    print('Element Found At Index',i)"
   ]
  },
  {
   "cell_type": "markdown",
   "id": "9a90e01f",
   "metadata": {},
   "source": [
    "## Implementing Search on a Quantum System"
   ]
  },
  {
   "cell_type": "code",
   "execution_count": 21,
   "id": "5097a56c",
   "metadata": {},
   "outputs": [],
   "source": [
    "to_find='0111'"
   ]
  },
  {
   "cell_type": "markdown",
   "id": "64db220d",
   "metadata": {},
   "source": [
    "### Oracle Operator"
   ]
  },
  {
   "cell_type": "code",
   "execution_count": 22,
   "id": "eb0fdc5c",
   "metadata": {},
   "outputs": [
    {
     "name": "stdout",
     "output_type": "stream",
     "text": [
      "The Grover Initial Part is\n",
      "T  : |0|\n",
      "        \n",
      "q0 : -H-\n",
      "        \n",
      "q1 : -H-\n",
      "        \n",
      "q2 : -H-\n",
      "        \n",
      "q3 : -H-\n",
      "\n",
      "T  : |0| \n",
      "\n",
      "\n",
      "The Oracle Initial Part is\n",
      "T  : |0|1|2|\n",
      "            \n",
      "q0 : -X-U-X-\n",
      "        |   \n",
      "q1 : ---U---\n",
      "        |   \n",
      "q2 : ---U---\n",
      "        |   \n",
      "q3 : ---U---\n",
      "\n",
      "T  : |0|1|2|\n"
     ]
    }
   ],
   "source": [
    "temp=[]\n",
    "\n",
    "for i in range(16):\n",
    "    temp.append([])\n",
    "    for j in range(16):\n",
    "        \n",
    "        if(i == j):\n",
    "            if(i == 15):\n",
    "                temp[i].append(-1.0)\n",
    "            else:\n",
    "                temp[i].append(1.0)\n",
    "        else:\n",
    "            temp[i].append(0.0)\n",
    "\n",
    "            \n",
    "custom_gate=np.array(temp)\n",
    "\n",
    "\n",
    "grover = Circuit()\n",
    "grover.h([0,1,2,3])\n",
    "\n",
    "cz_gate = Circuit().unitary(matrix=custom_gate, targets=[0,1,2,3])\n",
    "\n",
    "oracle = Circuit()\n",
    "\n",
    "if (to_find == '0000'):\n",
    "    oracle.x([0,1,2,3]).add(cz_gate).x([0,1,2,3])\n",
    "    \n",
    "elif (to_find == '0001'):\n",
    "    oracle.x([0,1,2]).add(cz_gate).x([0,1,2])\n",
    "    \n",
    "elif (to_find == '0010'):\n",
    "    oracle.x([0,1,3]).add(cz_gate).x([0,1,3])\n",
    "    \n",
    "elif (to_find == '0011'):\n",
    "    oracle.x([0,1]).add(cz_gate).x([0,1])\n",
    "    \n",
    "elif (to_find == '0100'):\n",
    "    oracle.x([0,2,3]).add(cz_gate).x([0,2,3])\n",
    "    \n",
    "elif (to_find == '0101'):\n",
    "    oracle.x([0,2]).add(cz_gate).x([0,2])\n",
    "    \n",
    "elif (to_find == '0110'):\n",
    "    oracle.x([0,3]).add(cz_gate).x([0,3])\n",
    "    \n",
    "elif (to_find == '0111'):\n",
    "    oracle.x([0]).add(cz_gate).x([0])\n",
    "    \n",
    "elif (to_find == '1000'):\n",
    "    oracle.x([1,2,3]).add(cz_gate).x([1,2,3])\n",
    "    \n",
    "elif (to_find == '1001'):\n",
    "    oracle.x([1,2]).add(cz_gate).x([1,2])\n",
    "    \n",
    "elif (to_find == '1010'):\n",
    "    oracle.x([1,3]).add(cz_gate).x([1,3])\n",
    "    \n",
    "elif (to_find == '1011'):\n",
    "    oracle.x([1]).add(cz_gate).x([1])\n",
    "    \n",
    "elif (to_find == '1100'):\n",
    "    oracle.x([2,3]).add(cz_gate).x([2,3])\n",
    "    \n",
    "elif (to_find == '1101'):\n",
    "    oracle.x([2]).add(cz_gate).x([2])\n",
    "    \n",
    "elif (to_find == '1110'):\n",
    "    oracle.x([3]).add(cz_gate).x([3])\n",
    "    \n",
    "elif (to_find == '1111'):\n",
    "    oracle.add(cz_gate)\n",
    "\n",
    "\n",
    "print('The Grover Initial Part is')\n",
    "print(grover,'\\n\\n')\n",
    "\n",
    "print('The Oracle Initial Part is')\n",
    "print(oracle)"
   ]
  },
  {
   "cell_type": "markdown",
   "id": "55ef0150",
   "metadata": {},
   "source": [
    "### Adding the Amplification Operator To the Circuit"
   ]
  },
  {
   "cell_type": "code",
   "execution_count": 23,
   "id": "48d657c8",
   "metadata": {},
   "outputs": [
    {
     "name": "stdout",
     "output_type": "stream",
     "text": [
      "The Amplification Initial Part is\n",
      "T  : |0|1|2|3|4|\n",
      "                \n",
      "q0 : -H-X-U-X-H-\n",
      "          |     \n",
      "q1 : -H-X-U-X-H-\n",
      "          |     \n",
      "q2 : -H-X-U-X-H-\n",
      "          |     \n",
      "q3 : -H-X-U-X-H-\n",
      "\n",
      "T  : |0|1|2|3|4|\n"
     ]
    }
   ],
   "source": [
    "amplify = Circuit()\n",
    "\n",
    "amplify.h([0,1,2,3])\n",
    "amplify.x([0,1,2,3]).unitary(matrix=custom_gate, targets=[0,1,2,3]).x([0,1,2,3])\n",
    "amplify.h([0,1,2,3])\n",
    "\n",
    "print('The Amplification Initial Part is')\n",
    "print(amplify)"
   ]
  },
  {
   "cell_type": "markdown",
   "id": "28b255cf",
   "metadata": {},
   "source": [
    "### Combine Circuit Components"
   ]
  },
  {
   "cell_type": "code",
   "execution_count": 24,
   "id": "6b75f4c4",
   "metadata": {},
   "outputs": [
    {
     "name": "stdout",
     "output_type": "stream",
     "text": [
      "T  : |0|1|2|3|4|5|6|7|8|\n",
      "                        \n",
      "q0 : -H-X-U-X-H-X-U-X-H-\n",
      "          |       |     \n",
      "q1 : -H---U-H-X---U-X-H-\n",
      "          |       |     \n",
      "q2 : -H---U-H-X---U-X-H-\n",
      "          |       |     \n",
      "q3 : -H---U-H-X---U-X-H-\n",
      "\n",
      "T  : |0|1|2|3|4|5|6|7|8|\n"
     ]
    }
   ],
   "source": [
    "grover.add(oracle)\n",
    "grover.add(amplify)\n",
    "\n",
    "print(grover)"
   ]
  },
  {
   "cell_type": "markdown",
   "id": "69a614d6",
   "metadata": {},
   "source": [
    "## Run the Circuit To Verify"
   ]
  },
  {
   "cell_type": "code",
   "execution_count": 25,
   "id": "053aaf27",
   "metadata": {},
   "outputs": [
    {
     "name": "stdout",
     "output_type": "stream",
     "text": [
      "Counter({'0111': 491, '1101': 44, '1000': 40, '0010': 36, '0011': 36, '1010': 36, '0001': 35, '1001': 35, '0110': 34, '0101': 34, '0100': 33, '1011': 30, '1111': 30, '1100': 30, '1110': 29, '0000': 27})\n"
     ]
    }
   ],
   "source": [
    "counts = device.run(grover, shots = 1000).result().measurement_counts\n",
    "print(counts)"
   ]
  },
  {
   "cell_type": "code",
   "execution_count": null,
   "id": "a80329ae",
   "metadata": {},
   "outputs": [],
   "source": []
  },
  {
   "cell_type": "markdown",
   "id": "ac074bdf",
   "metadata": {},
   "source": [
    "## Plotting Results\n"
   ]
  },
  {
   "cell_type": "code",
   "execution_count": 26,
   "id": "ca0afa33",
   "metadata": {},
   "outputs": [
    {
     "data": {
      "image/png": "[encoded data removed]",
      "text/plain": [
       "<Figure size 1000x500 with 1 Axes>"
      ]
     },
     "metadata": {},
     "output_type": "display_data"
    }
   ],
   "source": [
    "solutions=[]\n",
    "total_times=[]\n",
    "\n",
    "for key, value in counts.items():\n",
    "    if(key[:4] not in solutions):\n",
    "        solutions.append(key[:4])\n",
    "        total_times.append(0)\n",
    "    total_times[solutions.index(key[:4])] += value\n",
    "    \n",
    "    \n",
    "\n",
    "  \n",
    "fig = plt.figure(figsize = (10, 5))\n",
    " \n",
    "plt.bar(solutions, total_times, color ='blue', width = 0.4)\n",
    " \n",
    "plt.xlabel(\"Solutions\")\n",
    "plt.ylabel(\"No. of Times Occured\")\n",
    "plt.title(\"Final Output\")\n",
    "plt.show()"
   ]
  },
  {
   "cell_type": "markdown",
   "id": "6e0ad41f",
   "metadata": {},
   "source": [
    "#### Sometimes Value may come wrong due to the noise. Do run the algorithm  again to find the correct output."
   ]
  },
  {
   "cell_type": "markdown",
   "id": "acfbf4a5",
   "metadata": {},
   "source": [
    "#### Hence from the above graph we can conclude that the state with higher number of occurrence is same as the state that we searched for."
   ]
  }
 ],
 "metadata": {
  "kernelspec": {
   "display_name": "conda_braket",
   "language": "python",
   "name": "conda_braket"
  },
  "language_info": {
   "codemirror_mode": {
    "name": "ipython",
    "version": 3
   },
   "file_extension": ".py",
   "mimetype": "text/x-python",
   "name": "python",
   "nbconvert_exporter": "python",
   "pygments_lexer": "ipython3",
   "version": "3.7.11"
  }
 },
 "nbformat": 4,
 "nbformat_minor": 5
}
