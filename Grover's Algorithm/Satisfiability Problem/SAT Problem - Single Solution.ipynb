{
 "cells": [
  {
   "cell_type": "markdown",
   "id": "99b6a97d",
   "metadata": {},
   "source": [
    "### Problem Definition :"
   ]
  },
  {
   "cell_type": "markdown",
   "id": "d3b88651",
   "metadata": {},
   "source": [
    "The Boolean satisfiability problem is a problem wherein we need to determine if a given boolean expression is satisfiable, i.e. if given a boolean formula,  can we change the variables by TRUE or FALSE so that formula evaluates to TRUE. \n",
    "The boolean expression or clause is basically a combination of variables and operators enclosed within parentheses. The operators used are AND ( denoted by ∧ ),  OR ( denoted by ∨ ), and NOT ( denoted by ¬ ) . \n",
    "This is in general a constraint satisfaction problem. Below, we show how such constraint satisfaction problems with a single solution can be solved using Grover’s algorithm by changing its oracle component.\n",
    "\n"
   ]
  },
  {
   "cell_type": "markdown",
   "id": "4e9418af",
   "metadata": {},
   "source": [
    "![alt text](SAT_images/SAT.jpg \"Title\")"
   ]
  },
  {
   "cell_type": "markdown",
   "id": "80b388cc",
   "metadata": {},
   "source": [
    "### Circuit Diagram :\n",
    "\n",
    "\n",
    "<h4><center><i>Single Solution Satisfiability Problem</i></center></h4>\n",
    "<center><img src=\"SAT_images/single_oracle.jpg\" alt=\"drawing\" width=\"500\"/></center>\n",
    "\n",
    "<center><img src=\"SAT_images/single_grover.jpeg\" alt=\"drawing\" width=\"500\"/></center>"
   ]
  },
  {
   "cell_type": "markdown",
   "id": "1ccfbb90",
   "metadata": {},
   "source": [
    "## Code"
   ]
  },
  {
   "cell_type": "markdown",
   "id": "3df23e75",
   "metadata": {},
   "source": [
    "#### Importing Libraries"
   ]
  },
  {
   "cell_type": "code",
   "execution_count": 1,
   "id": "4f67560d",
   "metadata": {},
   "outputs": [],
   "source": [
    "import boto3\n",
    "from braket.circuits import Circuit\n",
    "from braket.aws import AwsDevice\n",
    "import matplotlib.pyplot as plt\n",
    "from braket.devices import LocalSimulator\n",
    "import numpy as np"
   ]
  },
  {
   "cell_type": "markdown",
   "id": "e8c63571",
   "metadata": {},
   "source": [
    "### Defining Devices and Problem Constraints"
   ]
  },
  {
   "cell_type": "code",
   "execution_count": 2,
   "id": "34f5cbec",
   "metadata": {},
   "outputs": [],
   "source": [
    "aws_account_id = boto3.client(\"sts\").get_caller_identity()[\"Account\"]\n",
    "# device = AwsDevice('arn:aws:braket:::device/quantum-simulator/amazon/sv1')\n",
    "device = LocalSimulator()\n",
    "s3_folder = (f\"amazon-braket-1c440ad1b4a7\",\"Simulator\")\n"
   ]
  },
  {
   "cell_type": "code",
   "execution_count": 3,
   "id": "ff5b4774",
   "metadata": {},
   "outputs": [],
   "source": [
    "# Problem Dictionary. 1 indicates clause the variable is negated\n",
    "\n",
    "problem = [\n",
    "    {\n",
    "        'A':0,\n",
    "        'C':1,\n",
    "    },\n",
    "    \n",
    "    {\n",
    "        'A':0,\n",
    "        'B':1,\n",
    "        'D':1,\n",
    "    },\n",
    "]"
   ]
  },
  {
   "cell_type": "markdown",
   "id": "3c26f0b0",
   "metadata": {},
   "source": [
    "### Implementing the Oracle Component"
   ]
  },
  {
   "cell_type": "code",
   "execution_count": 4,
   "id": "bff6ac39",
   "metadata": {},
   "outputs": [
    {
     "name": "stdout",
     "output_type": "stream",
     "text": [
      "T  : |0|1|2|3|4|5|6|7|8|9|10|11|12|13|14|\n",
      "                                         \n",
      "q0 : -X-C-X-X-C-X-X-------C--X--X--C--X--\n",
      "        |     |           |        |     \n",
      "q1 : ---|-----C-----------C--------|-----\n",
      "        |     |           |        |     \n",
      "q2 : ---C-----|-----------|--------C-----\n",
      "        |     |           |        |     \n",
      "q3 : ---|-----|-C-------C-|--------|-----\n",
      "        |     | |       | |        |     \n",
      "q4 : ---X-----|-|-C---C-|-|--------X-----\n",
      "              | | |   | | |              \n",
      "q5 : ---------X-C-|---|-C-X--------------\n",
      "                | |   | |                \n",
      "q6 : -----------X-C---C-X----------------\n",
      "                  |   |                  \n",
      "q7 : -------------X-C-X------------------\n",
      "                    |                    \n",
      "q8 : ---------------X--------------------\n",
      "\n",
      "T  : |0|1|2|3|4|5|6|7|8|9|10|11|12|13|14|\n"
     ]
    }
   ],
   "source": [
    "oracle_1 = Circuit()\n",
    "\n",
    "# For Constraint 1: (A U ~C)\n",
    "\n",
    "oracle_1.x([0])\n",
    "oracle_1.ccnot(0,2,4)\n",
    "oracle_1.x([0])\n",
    "    \n",
    "# For Constraint 2: (A U ~B U ~D)\n",
    "\n",
    "oracle_1.x([0])\n",
    "oracle_1.ccnot(0,1,5)\n",
    "oracle_1.ccnot(3,5,6)\n",
    "\n",
    "oracle_1.x([0])\n",
    "\n",
    "\n",
    "oracle_1.ccnot(4,6,7)\n",
    "oracle_1.cnot(7,8)\n",
    "\n",
    "oracle_1.ccnot(4,6,7)\n",
    "\n",
    "oracle_1.x([0])\n",
    "oracle_1.ccnot(3,5,6)\n",
    "oracle_1.ccnot(0,1,5)\n",
    "oracle_1.x([0])\n",
    "\n",
    "oracle_1.x([0])\n",
    "oracle_1.ccnot(0,2,4)\n",
    "oracle_1.x([0])\n",
    "\n",
    "oracle=oracle_1\n",
    "print(oracle_1)"
   ]
  },
  {
   "cell_type": "markdown",
   "id": "d9a384e9",
   "metadata": {},
   "source": [
    "### Implementing The Amplifier Componment"
   ]
  },
  {
   "cell_type": "code",
   "execution_count": 5,
   "id": "062aa10f",
   "metadata": {},
   "outputs": [
    {
     "name": "stdout",
     "output_type": "stream",
     "text": [
      "T  : |0|1|2|3|4|\n",
      "                \n",
      "q0 : -H-X-U-X-H-\n",
      "          |     \n",
      "q1 : -H-X-U-X-H-\n",
      "          |     \n",
      "q2 : -H-X-U-X-H-\n",
      "          |     \n",
      "q3 : -H-X-U-X-H-\n",
      "\n",
      "T  : |0|1|2|3|4|\n"
     ]
    }
   ],
   "source": [
    "temp=[]\n",
    "for i in range(16):\n",
    "    \n",
    "    temp.append([])\n",
    "    for j in range(16):\n",
    "        if(i==j):\n",
    "            if(i==15):\n",
    "                temp[i].append(-1.0)\n",
    "            else:\n",
    "                temp[i].append(1.0)\n",
    "        else:\n",
    "            temp[i].append(0.0)\n",
    "\n",
    "custom_gate = np.array(temp)\n",
    "\n",
    "amplify = Circuit()\n",
    "\n",
    "amplify.h([0,1,2,3])\n",
    "amplify.x([0,1,2,3]).unitary(matrix=custom_gate, targets=[0,1,2,3]).x([0,1,2,3])\n",
    "amplify.h([0,1,2,3])\n",
    "\n",
    "print(amplify)"
   ]
  },
  {
   "cell_type": "markdown",
   "id": "1e75a5b3",
   "metadata": {},
   "source": [
    "### Combining Components For the Grover Algorithm"
   ]
  },
  {
   "cell_type": "code",
   "execution_count": 10,
   "id": "5fa30079",
   "metadata": {
    "scrolled": false
   },
   "outputs": [
    {
     "name": "stdout",
     "output_type": "stream",
     "text": [
      "T  : |0|1|2|3|4|5|6|7|8|9|10|11 |12|13|14|15|16|17|18|19|20|21|22|23|24|25|26|27|28|29|30|31 |32|33|34|35|36|37|38|39|40|\n",
      "                                                                                                                         \n",
      "q0 : -H-X-C-X-X-C-X-X--------C---X--X--C--X--H--X--U--X--H--X--C--X--X--C--X--X-----------C---X--X--C--X--H--X--U--X--H--\n",
      "          |     |            |         |           |           |        |                 |         |           |        \n",
      "q1 : -H---|-----C------------C---H--X--|-----------U--X--H-----|--------C-----------------C---H--X--|-----------U--X--H--\n",
      "          |     |            |         |           |           |        |                 |         |           |        \n",
      "q2 : -H---C-----|------------|---------C--H--X-----U--X--H-----C--------|-----------------|---------C--H--X-----U--X--H--\n",
      "          |     |            |         |           |           |        |                 |         |           |        \n",
      "q3 : -H---|-----|-C-------C--|-H-X-----|-----------U--X--H-----|--------|--C-----------C--|-H-X-----|-----------U--X--H--\n",
      "          |     | |       |  |         |                       |        |  |           |  |         |                    \n",
      "q4 : -----X-----|-|-C---C-|--|---------X-----------------------X--------|--|--C-----C--|--|---------X--------------------\n",
      "                | | |   | |  |                                          |  |  |     |  |  |                              \n",
      "q5 : -----------X-C-|---|-C--X------------------------------------------X--C--|-----|--C--X------------------------------\n",
      "                  | |   | |                                                |  |     |  |                                 \n",
      "q6 : -------------X-C---C-X------------------------------------------------X--C-----C--X---------------------------------\n",
      "                    |   |                                                     |     |                                    \n",
      "q7 : ---------------X-C-X-----------------------------------------------------X--C--X------------------------------------\n",
      "                      |                                                          |                                       \n",
      "q8 : -X-H-------------X----------------------------------------------------------X---------------------------------------\n",
      "\n",
      "T  : |0|1|2|3|4|5|6|7|8|9|10|11 |12|13|14|15|16|17|18|19|20|21|22|23|24|25|26|27|28|29|30|31 |32|33|34|35|36|37|38|39|40|\n"
     ]
    }
   ],
   "source": [
    "# Satisfiablity problem solver\n",
    "\n",
    "sat = Circuit()\n",
    "sat.x([8]).h([0,1,2,3,8])\n",
    "for i in range(2):\n",
    "    sat.add(oracle)\n",
    "    sat.add(amplify)\n",
    "print(sat)\n"
   ]
  },
  {
   "cell_type": "code",
   "execution_count": 11,
   "id": "089f3130",
   "metadata": {},
   "outputs": [
    {
     "name": "stdout",
     "output_type": "stream",
     "text": [
      "Counter({'011100001': 498, '011100000': 434, '001100000': 5, '101000000': 5, '111000000': 5, '101100000': 4, '111100000': 4, '111100001': 4, '101000001': 4, '000100001': 3, '110100001': 3, '010100000': 3, '000000001': 3, '100000000': 2, '111000001': 2, '000100000': 2, '011000000': 2, '001100001': 2, '010100001': 2, '001000000': 2, '100100000': 2, '101100001': 2, '011000001': 2, '001000001': 1, '110100000': 1, '110000000': 1, '010000000': 1, '100100001': 1})\n"
     ]
    }
   ],
   "source": [
    "counts = device.run(sat, shots = 1000).result().measurement_counts\n",
    "print(counts)"
   ]
  },
  {
   "cell_type": "code",
   "execution_count": 12,
   "id": "b727566f",
   "metadata": {},
   "outputs": [],
   "source": [
    "solutions=[]\n",
    "total_times=[]\n",
    "\n",
    "for key, value in counts.items():\n",
    "    if(key[:4] not in solutions):\n",
    "        solutions.append(key[:4])\n",
    "        total_times.append(0)\n",
    "    total_times[solutions.index(key[:4])] += value"
   ]
  },
  {
   "cell_type": "code",
   "execution_count": 13,
   "id": "a64b9295",
   "metadata": {},
   "outputs": [
    {
     "data": {
      "image/png": "[encoded data removed]",
      "text/plain": [
       "<Figure size 1000x500 with 1 Axes>"
      ]
     },
     "metadata": {},
     "output_type": "display_data"
    }
   ],
   "source": [
    "fig = plt.figure(figsize = (10, 5))\n",
    " \n",
    "# creating the bar plot\n",
    "plt.bar(solutions, total_times, color ='blue',\n",
    "        width = 0.4)\n",
    " \n",
    "plt.xlabel(\"Solutions\")\n",
    "plt.ylabel(\"No. of Times Occured\")\n",
    "plt.title(\"Final Output\")\n",
    "plt.show()"
   ]
  }
 ],
 "metadata": {
  "kernelspec": {
   "display_name": "conda_braket",
   "language": "python",
   "name": "conda_braket"
  },
  "language_info": {
   "codemirror_mode": {
    "name": "ipython",
    "version": 3
   },
   "file_extension": ".py",
   "mimetype": "text/x-python",
   "name": "python",
   "nbconvert_exporter": "python",
   "pygments_lexer": "ipython3",
   "version": "3.7.11"
  }
 },
 "nbformat": 4,
 "nbformat_minor": 5
}
