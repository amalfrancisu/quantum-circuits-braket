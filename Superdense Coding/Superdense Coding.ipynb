{
 "cells": [
  {
   "cell_type": "markdown",
   "id": "33f6077a",
   "metadata": {},
   "source": [
    "# Superdense Coding"
   ]
  },
  {
   "cell_type": "markdown",
   "id": "caf0b6cc",
   "metadata": {},
   "source": [
    "### Introduction\n",
    "\n",
    "Superdense coding is a procedure that allows a person to send two classical bits to another party by just using one qubit. This is done using the property of quantum entanglement.\n",
    "Consider a case where there are two people, say Alice and Bob. In a usual scenario to send 2 bits of data through classical channels, Alice would need two bits. But Alice and Bob could use the quantum properties to use just one qubit to send this data. For this initially they need to share a maximally entangled pair of qubits(Bell pair). Alice then selects one of the four possible messages that could be send using two bits (00, 01, 10, 11). Once she selects the messages she encodes it using the corresponding quantum gates. After this, Alice sends her qubit to Bob and then he decodes the message by undoing the entangling operation. \n",
    "\n",
    "### Steps\n",
    "\n",
    "1. Alice and Bob initially share a Bell pair. This can be done by initially starting with two qubits, in this case two |0> state and then apply the Hadamard gate (H gate) to the first qubit. Then they are passed through a CNOT gate (CX gate) and this produces a bell pair. Alice holds one of the qubits and Bob holds the other qubit.\n",
    "2. Alice then selects the message she want to send and applies the corresponding quantum gate transformation according to table 1. \n",
    "3. Alice sends her qubit to Bob.\n",
    "4. Bob then undoes the entangling by first passing the qubits through a CNOT gate and then applying a H gate. This restores the classical message.\n",
    "\n",
    "\n",
    "##### Table 1\n",
    "\n",
    "| Message | Alice's encoding gate | State Bob receives | After applying CNOT gate | After applying 𝐻 gate (Final) |\n",
    "| :---: | :---: | :---: | :---: | :---: |\n",
    "| 00 | 𝐼 | \\|00⟩ + \\|11⟩ | \\|00⟩ + \\|10⟩ | \\|00⟩\n",
    "| 01 | 𝑋 | \\|10⟩ + \\|01⟩ | \\|11⟩ + \\|01⟩ | \\|01⟩\n",
    "| 10 | 𝑍 | \\|00⟩ - \\|11⟩ | \\|00⟩ - \\|10⟩ | \\|10⟩\n",
    "| 11 | 𝑍𝑋 | \\|01⟩ - \\|10⟩ | \\|01⟩ - \\|11⟩ | \\|11⟩\n",
    "\n",
    "### Circuit Diagram\n",
    "\n",
    "![alt text](superdense_images/super.jpg \"Title\")"
   ]
  },
  {
   "cell_type": "markdown",
   "id": "7bbf629d",
   "metadata": {},
   "source": [
    "### Code\n",
    "\n",
    "#### Importing Libraries and setting up configuration"
   ]
  },
  {
   "cell_type": "code",
   "execution_count": 1,
   "id": "7248283f",
   "metadata": {},
   "outputs": [],
   "source": [
    "import boto3\n",
    "from braket.circuits import Circuit, Gate, Moments\n",
    "from braket.circuits.instruction import Instruction\n",
    "from braket.aws import AwsDevice\n",
    "import matplotlib.pyplot as plt\n",
    "from braket.devices import LocalSimulator\n",
    "import time"
   ]
  },
  {
   "cell_type": "code",
   "execution_count": 2,
   "id": "d41be652",
   "metadata": {},
   "outputs": [],
   "source": [
    "aws_account_id = boto3.client(\"sts\").get_caller_identity()[\"Account\"]"
   ]
  },
  {
   "cell_type": "code",
   "execution_count": 3,
   "id": "bc29fff7",
   "metadata": {},
   "outputs": [],
   "source": [
    "s3_folder = (f'amazon-braket-1c440ad1b4a7','Local')"
   ]
  },
  {
   "cell_type": "code",
   "execution_count": 4,
   "id": "71f9c0dc",
   "metadata": {},
   "outputs": [],
   "source": [
    "# We are choosing a local simulator\n",
    "device = LocalSimulator()"
   ]
  },
  {
   "cell_type": "markdown",
   "id": "512abbf4",
   "metadata": {},
   "source": [
    "#### Code for the circuit"
   ]
  },
  {
   "cell_type": "markdown",
   "id": "c6bd2773",
   "metadata": {},
   "source": [
    "Initially a bell pair is shared between Alice and Bob. To create a bell pair, first bit is passed through a Hadamard gate and then the whole is passed through a CNOT gate."
   ]
  },
  {
   "cell_type": "code",
   "execution_count": 5,
   "id": "f3b3d6b9",
   "metadata": {},
   "outputs": [],
   "source": [
    "circ = Circuit().h([0]).cnot(0,1)"
   ]
  },
  {
   "cell_type": "code",
   "execution_count": 6,
   "id": "4ce4ad88",
   "metadata": {},
   "outputs": [],
   "source": [
    "# The encoding scheme\n",
    "message_encoding = {\"00\": Circuit().i(0),\n",
    "                    \"01\": Circuit().x(0),\n",
    "                    \"10\": Circuit().z(0),\n",
    "                    \"11\": Circuit().z(0).x(0)\n",
    "                    }"
   ]
  },
  {
   "cell_type": "code",
   "execution_count": 7,
   "id": "44917781",
   "metadata": {},
   "outputs": [
    {
     "name": "stdout",
     "output_type": "stream",
     "text": [
      "Enter the two bit message to be sent : 01\n"
     ]
    },
    {
     "data": {
      "text/plain": [
       "'01'"
      ]
     },
     "execution_count": 7,
     "metadata": {},
     "output_type": "execute_result"
    }
   ],
   "source": [
    "# input the message to be send. (00, 01, 10 , 11)\n",
    "m = input(\"Enter the two bit message to be sent : \")\n",
    "m"
   ]
  },
  {
   "cell_type": "markdown",
   "id": "d2d158cf",
   "metadata": {},
   "source": [
    "Alice encodes the message using the given encoding scheme for the message."
   ]
  },
  {
   "cell_type": "code",
   "execution_count": 8,
   "id": "26fbebd4",
   "metadata": {},
   "outputs": [],
   "source": [
    "# Encoding the message\n",
    "circ.add_circuit(message_encoding[m]);"
   ]
  },
  {
   "cell_type": "markdown",
   "id": "8bc00803",
   "metadata": {},
   "source": [
    "Alice then sends the message to the qubit. The sent message is disentagled by Bob by passing it through a cnot gate and the first bit using a hadamard gate."
   ]
  },
  {
   "cell_type": "code",
   "execution_count": 9,
   "id": "6730ad40",
   "metadata": {},
   "outputs": [
    {
     "name": "stdout",
     "output_type": "stream",
     "text": [
      "T  : |0|1|2|3|4|\n",
      "                \n",
      "q0 : -H-C-X-C-H-\n",
      "        |   |   \n",
      "q1 : ---X---X---\n",
      "\n",
      "T  : |0|1|2|3|4|\n"
     ]
    }
   ],
   "source": [
    "circ.cnot(0,1).h([0])\n",
    "print(circ)"
   ]
  },
  {
   "cell_type": "code",
   "execution_count": 10,
   "id": "4d38e1ff",
   "metadata": {},
   "outputs": [
    {
     "data": {
      "text/plain": [
       "Counter({'01': 500})"
      ]
     },
     "execution_count": 10,
     "metadata": {},
     "output_type": "execute_result"
    }
   ],
   "source": [
    "counts = device.run(circ, shots=500).result().measurement_counts\n",
    "counts"
   ]
  },
  {
   "cell_type": "code",
   "execution_count": 11,
   "id": "dc2fb497",
   "metadata": {},
   "outputs": [
    {
     "data": {
      "image/png": "[encoded data removed]",
      "text/plain": [
       "<Figure size 640x480 with 1 Axes>"
      ]
     },
     "metadata": {},
     "output_type": "display_data"
    }
   ],
   "source": [
    "plt.bar(counts.keys(), counts.values())\n",
    "plt.show()"
   ]
  }
 ],
 "metadata": {
  "kernelspec": {
   "display_name": "conda_braket",
   "language": "python",
   "name": "conda_braket"
  },
  "language_info": {
   "codemirror_mode": {
    "name": "ipython",
    "version": 3
   },
   "file_extension": ".py",
   "mimetype": "text/x-python",
   "name": "python",
   "nbconvert_exporter": "python",
   "pygments_lexer": "ipython3",
   "version": "3.7.11"
  }
 },
 "nbformat": 4,
 "nbformat_minor": 5
}
