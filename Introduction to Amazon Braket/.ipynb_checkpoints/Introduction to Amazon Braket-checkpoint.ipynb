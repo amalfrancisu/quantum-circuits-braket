{
 "cells": [
  {
   "cell_type": "markdown",
   "metadata": {},
   "source": [
    "<h1>Introduction to Amazon Braket</h1><br>\n",
    "In this introductory project file, we aimed to document the building blocks for quantum computing using the Amazon Braket. We’ve covered the ways to import libraries, connecting to our AWS ID, how to start working on a device or a simulator using the Braket and how to store the results of the computation. We also looked into how to design and implement quantum circuits using basic quantum gates, and run those circuits on the device and calculate the results. Additionally, we had also shown how to plot the results that we’d calculated."
   ]
  },
  {
   "cell_type": "markdown",
   "metadata": {},
   "source": [
    "### Importing the Required Libraries"
   ]
  },
  {
   "cell_type": "code",
   "execution_count": 1,
   "metadata": {},
   "outputs": [],
   "source": [
    "import boto3\n",
    "from braket.circuits import Circuit\n",
    "from braket.aws import AwsDevice\n",
    "import matplotlib.pyplot as plt\n",
    "from braket.devices import LocalSimulator\n",
    "import numpy as np\n",
    "import math"
   ]
  },
  {
   "cell_type": "markdown",
   "metadata": {},
   "source": [
    "### To Get Our Amazon Web Service ID"
   ]
  },
  {
   "cell_type": "code",
   "execution_count": 2,
   "metadata": {},
   "outputs": [],
   "source": [
    "aws_account_id = boto3.client(\"sts\").get_caller_identity()[\"Account\"]\n"
   ]
  },
  {
   "cell_type": "markdown",
   "metadata": {},
   "source": [
    "### To Define The Device.\n",
    "\n",
    "#### In the Braket Dashboard, Navigate to the Devices Tab on the left and open any device or simulator as per your requirement."
   ]
  },
  {
   "cell_type": "markdown",
   "metadata": {},
   "source": [
    "##### For An Actual Device Using A QPU"
   ]
  },
  {
   "cell_type": "code",
   "execution_count": 3,
   "metadata": {},
   "outputs": [],
   "source": [
    "device = AwsDevice('arn:aws:braket:::device/qpu/ionq/ionQdevice')"
   ]
  },
  {
   "cell_type": "markdown",
   "metadata": {},
   "source": [
    "##### For A Managed Simulator"
   ]
  },
  {
   "cell_type": "code",
   "execution_count": 4,
   "metadata": {},
   "outputs": [],
   "source": [
    "device = AwsDevice('arn:aws:braket:::device/quantum-simulator/amazon/sv1')"
   ]
  },
  {
   "cell_type": "markdown",
   "metadata": {},
   "source": [
    "##### For A Local Simulator"
   ]
  },
  {
   "cell_type": "code",
   "execution_count": 5,
   "metadata": {},
   "outputs": [],
   "source": [
    "device = LocalSimulator()\n"
   ]
  },
  {
   "cell_type": "markdown",
   "metadata": {},
   "source": [
    "### To Create The Folder To Store Results"
   ]
  },
  {
   "cell_type": "code",
   "execution_count": 6,
   "metadata": {},
   "outputs": [],
   "source": [
    "## Bucket ID for a AWS Account can be found in the S3 Service provided by AWS\n",
    "\n",
    "s3_folder = (f\"amazon-braket-<BucketID>\",\"Simulator\")\n"
   ]
  },
  {
   "cell_type": "markdown",
   "metadata": {},
   "source": [
    "### To Start A New Circuit"
   ]
  },
  {
   "cell_type": "code",
   "execution_count": 7,
   "metadata": {},
   "outputs": [],
   "source": [
    "test_circuit = Circuit()"
   ]
  },
  {
   "cell_type": "markdown",
   "metadata": {},
   "source": [
    "### Adding Gates to the Circuit"
   ]
  },
  {
   "cell_type": "markdown",
   "metadata": {},
   "source": [
    "##### X Gate - To Apply X Gate to Qubit 0  "
   ]
  },
  {
   "cell_type": "code",
   "execution_count": 8,
   "metadata": {},
   "outputs": [
    {
     "name": "stdout",
     "output_type": "stream",
     "text": [
      "T  : |0|\n",
      "        \n",
      "q0 : -X-\n",
      "\n",
      "T  : |0|\n"
     ]
    }
   ],
   "source": [
    "test_circuit1 = Circuit()\n",
    "test_circuit1.x([0])\n",
    "print(test_circuit1)"
   ]
  },
  {
   "cell_type": "markdown",
   "metadata": {},
   "source": [
    "##### Y Gate - To Apply Y Gate to Qubit 0  "
   ]
  },
  {
   "cell_type": "code",
   "execution_count": 9,
   "metadata": {},
   "outputs": [
    {
     "name": "stdout",
     "output_type": "stream",
     "text": [
      "T  : |0|\n",
      "        \n",
      "q0 : -Y-\n",
      "\n",
      "T  : |0|\n"
     ]
    }
   ],
   "source": [
    "test_circuit2 = Circuit()\n",
    "test_circuit2.y([0])\n",
    "print(test_circuit2)"
   ]
  },
  {
   "cell_type": "markdown",
   "metadata": {},
   "source": [
    "##### Z Gate - To Apply Z Gate to Qubit 0 "
   ]
  },
  {
   "cell_type": "code",
   "execution_count": 10,
   "metadata": {},
   "outputs": [
    {
     "name": "stdout",
     "output_type": "stream",
     "text": [
      "T  : |0|\n",
      "        \n",
      "q0 : -Z-\n",
      "\n",
      "T  : |0|\n"
     ]
    }
   ],
   "source": [
    "test_circuit3 = Circuit()\n",
    "test_circuit3.z([0])\n",
    "print(test_circuit3)"
   ]
  },
  {
   "cell_type": "markdown",
   "metadata": {},
   "source": [
    "##### CNOT Gate - To Apply CNOT Gate to Qubit 0 "
   ]
  },
  {
   "cell_type": "code",
   "execution_count": 11,
   "metadata": {},
   "outputs": [
    {
     "name": "stdout",
     "output_type": "stream",
     "text": [
      "T  : |0|\n",
      "        \n",
      "q0 : -C-\n",
      "      | \n",
      "q1 : -X-\n",
      "\n",
      "T  : |0|\n"
     ]
    }
   ],
   "source": [
    "test_circuit4 = Circuit()\n",
    "test_circuit4.cnot(0,1)\n",
    "print(test_circuit4)"
   ]
  },
  {
   "cell_type": "markdown",
   "metadata": {},
   "source": [
    "##### Toffoli Gate - To Apply Toffoli Gate where Qubit 0 and Qubit 1 and the Target Bit as Qubit 2 "
   ]
  },
  {
   "cell_type": "code",
   "execution_count": 12,
   "metadata": {},
   "outputs": [
    {
     "name": "stdout",
     "output_type": "stream",
     "text": [
      "T  : |0|\n",
      "        \n",
      "q0 : -C-\n",
      "      | \n",
      "q1 : -C-\n",
      "      | \n",
      "q2 : -X-\n",
      "\n",
      "T  : |0|\n"
     ]
    }
   ],
   "source": [
    "test_circuit5 = Circuit()\n",
    "test_circuit5.ccnot(0,1,2)\n",
    "print(test_circuit5)"
   ]
  },
  {
   "cell_type": "markdown",
   "metadata": {},
   "source": [
    "##### Hadamard Gate - To Apply Hadamard Gate to Qubit 0 "
   ]
  },
  {
   "cell_type": "code",
   "execution_count": 13,
   "metadata": {},
   "outputs": [
    {
     "name": "stdout",
     "output_type": "stream",
     "text": [
      "T  : |0|\n",
      "        \n",
      "q0 : -H-\n",
      "\n",
      "T  : |0|\n"
     ]
    }
   ],
   "source": [
    "test_circuit6 = Circuit()\n",
    "test_circuit6.h(0)\n",
    "print(test_circuit6)"
   ]
  },
  {
   "cell_type": "markdown",
   "metadata": {},
   "source": [
    "##### S Gate - To Apply S Gate to Qubit 0 "
   ]
  },
  {
   "cell_type": "code",
   "execution_count": 14,
   "metadata": {},
   "outputs": [
    {
     "name": "stdout",
     "output_type": "stream",
     "text": [
      "T  : |0|\n",
      "        \n",
      "q0 : -S-\n",
      "\n",
      "T  : |0|\n"
     ]
    }
   ],
   "source": [
    "test_circuit7 = Circuit()\n",
    "test_circuit7.s(0)\n",
    "print(test_circuit7)"
   ]
  },
  {
   "cell_type": "markdown",
   "metadata": {},
   "source": [
    "##### T Gate - To Apply T Gate to Qubit 0 "
   ]
  },
  {
   "cell_type": "code",
   "execution_count": 15,
   "metadata": {},
   "outputs": [
    {
     "name": "stdout",
     "output_type": "stream",
     "text": [
      "T  : |0|\n",
      "        \n",
      "q0 : -T-\n",
      "\n",
      "T  : |0|\n"
     ]
    }
   ],
   "source": [
    "test_circuit8 = Circuit()\n",
    "test_circuit8.t(0)\n",
    "print(test_circuit8)"
   ]
  },
  {
   "cell_type": "markdown",
   "metadata": {},
   "source": [
    "##### CZ Gate - To Apply CZ Gate to Qubit 0 "
   ]
  },
  {
   "cell_type": "code",
   "execution_count": 16,
   "metadata": {},
   "outputs": [
    {
     "name": "stdout",
     "output_type": "stream",
     "text": [
      "T  : |0|\n",
      "        \n",
      "q0 : -C-\n",
      "      | \n",
      "q1 : -Z-\n",
      "\n",
      "T  : |0|\n"
     ]
    }
   ],
   "source": [
    "test_circuit9 = Circuit()\n",
    "test_circuit9.cz(0,1)\n",
    "print(test_circuit9)"
   ]
  },
  {
   "cell_type": "markdown",
   "metadata": {},
   "source": [
    "##### CY Gate - To Apply CY Gate to Qubit 0 "
   ]
  },
  {
   "cell_type": "code",
   "execution_count": 17,
   "metadata": {},
   "outputs": [
    {
     "name": "stdout",
     "output_type": "stream",
     "text": [
      "T  : |0|\n",
      "        \n",
      "q0 : -C-\n",
      "      | \n",
      "q1 : -Y-\n",
      "\n",
      "T  : |0|\n"
     ]
    }
   ],
   "source": [
    "test_circuit10 = Circuit()\n",
    "test_circuit10.cy(0,1)\n",
    "print(test_circuit10)"
   ]
  },
  {
   "cell_type": "markdown",
   "metadata": {},
   "source": [
    "##### Rx Gate - To Apply Rx Gate to Qubit 0 "
   ]
  },
  {
   "cell_type": "code",
   "execution_count": 18,
   "metadata": {},
   "outputs": [
    {
     "name": "stdout",
     "output_type": "stream",
     "text": [
      "T  : |   0   |\n",
      "              \n",
      "q0 : -Rx(0.2)-\n",
      "\n",
      "T  : |   0   |\n"
     ]
    }
   ],
   "source": [
    "# X Rotation with angle 0.20\n",
    "test_circuit11 = Circuit()\n",
    "test_circuit11.rx(0,0.2)\n",
    "print(test_circuit11)"
   ]
  },
  {
   "cell_type": "markdown",
   "metadata": {},
   "source": [
    "##### Ry Gate - To Apply Ry Gate to Qubit 0 "
   ]
  },
  {
   "cell_type": "code",
   "execution_count": 19,
   "metadata": {},
   "outputs": [
    {
     "name": "stdout",
     "output_type": "stream",
     "text": [
      "T  : |   0   |\n",
      "              \n",
      "q0 : -Ry(0.2)-\n",
      "\n",
      "T  : |   0   |\n"
     ]
    }
   ],
   "source": [
    "# Y Rotation with angle 0.20\n",
    "test_circuit12 = Circuit()\n",
    "test_circuit12.ry(0,0.2)\n",
    "print(test_circuit12)"
   ]
  },
  {
   "cell_type": "markdown",
   "metadata": {},
   "source": [
    "##### Rz Gate - To Apply Rz Gate to Qubit 0 "
   ]
  },
  {
   "cell_type": "code",
   "execution_count": 20,
   "metadata": {},
   "outputs": [
    {
     "name": "stdout",
     "output_type": "stream",
     "text": [
      "T  : |   0   |\n",
      "              \n",
      "q0 : -Rz(0.2)-\n",
      "\n",
      "T  : |   0   |\n"
     ]
    }
   ],
   "source": [
    "# Z Rotation with angle 0.20\n",
    "test_circuit11 = Circuit()\n",
    "test_circuit11.rz(0,0.2)\n",
    "print(test_circuit11)"
   ]
  },
  {
   "cell_type": "markdown",
   "metadata": {},
   "source": [
    "### Sample Circuit To Test - To Swap 2 Qubits"
   ]
  },
  {
   "cell_type": "code",
   "execution_count": 21,
   "metadata": {},
   "outputs": [
    {
     "data": {
      "text/plain": [
       "Circuit('instructions': [Instruction('operator': X('qubit_count': 1), 'target': QubitSet([Qubit(1)])), Instruction('operator': CNot('qubit_count': 2), 'target': QubitSet([Qubit(0), Qubit(1)])), Instruction('operator': CNot('qubit_count': 2), 'target': QubitSet([Qubit(1), Qubit(0)])), Instruction('operator': CNot('qubit_count': 2), 'target': QubitSet([Qubit(0), Qubit(1)]))])"
      ]
     },
     "execution_count": 21,
     "metadata": {},
     "output_type": "execute_result"
    }
   ],
   "source": [
    "test_circuit = Circuit()\n",
    "test_circuit.x([1]).cnot(0,1).cnot(1,0).cnot(0,1)"
   ]
  },
  {
   "attachments": {
    "photo1637216397.jpeg": {
     "image/jpeg": "[encoded data removed]"
    }
   },
   "cell_type": "markdown",
   "metadata": {},
   "source": [
    "![photo1637216397.jpeg](attachment:photo1637216397.jpeg)"
   ]
  },
  {
   "cell_type": "markdown",
   "metadata": {},
   "source": [
    "### To Run the Task On the Device"
   ]
  },
  {
   "cell_type": "code",
   "execution_count": 22,
   "metadata": {},
   "outputs": [],
   "source": [
    "result = device.run(test_circuit, shots = 1000).result()\n"
   ]
  },
  {
   "cell_type": "markdown",
   "metadata": {},
   "source": [
    "### To View The Results of the Computation"
   ]
  },
  {
   "cell_type": "code",
   "execution_count": 23,
   "metadata": {},
   "outputs": [
    {
     "name": "stdout",
     "output_type": "stream",
     "text": [
      "Counter({'10': 1000})\n"
     ]
    }
   ],
   "source": [
    "value_counts = result.measurement_counts\n",
    "print(value_counts)"
   ]
  },
  {
   "cell_type": "markdown",
   "metadata": {},
   "source": [
    "### To Tabulate The Final Results"
   ]
  },
  {
   "cell_type": "code",
   "execution_count": 24,
   "metadata": {},
   "outputs": [
    {
     "data": {
      "image/png": "[encoded data removed]",
      "text/plain": [
       "<Figure size 1000x500 with 1 Axes>"
      ]
     },
     "metadata": {},
     "output_type": "display_data"
    }
   ],
   "source": [
    "fig = plt.figure(figsize = (10, 5))\n",
    " \n",
    "# creating the bar plot\n",
    "plt.bar(list(value_counts.keys()), list(value_counts.values()), color ='blue',\n",
    "        width = 0.4)\n",
    " \n",
    "plt.xlabel(\"Output\")\n",
    "plt.ylabel(\"Counts\")\n",
    "plt.title(\"Final Result Tabulation\")\n",
    "plt.show()"
   ]
  }
 ],
 "metadata": {
  "kernelspec": {
   "display_name": "Python 3",
   "language": "python",
   "name": "python3"
  },
  "language_info": {
   "codemirror_mode": {
    "name": "ipython",
    "version": 3
   },
   "file_extension": ".py",
   "mimetype": "text/x-python",
   "name": "python",
   "nbconvert_exporter": "python",
   "pygments_lexer": "ipython3",
   "version": "3.7.4"
  }
 },
 "nbformat": 4,
 "nbformat_minor": 5
}
