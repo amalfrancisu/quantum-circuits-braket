{
 "cells": [
  {
   "cell_type": "markdown",
   "id": "9afbbdbd",
   "metadata": {},
   "source": [
    "# GATES USING NAND"
   ]
  },
  {
   "cell_type": "markdown",
   "id": "012d22d2",
   "metadata": {},
   "source": [
    "Using the simple quantum Toffoli gate, we designed a universal NAND gate such that when the target bit of the Toffoli gate is set to 1, it behaves like a NAND gate. Using this implementation we further defined basic AND and OR logic gates. The implementation of these basic gates opens a wide range of possibilities as it would enable us to design and implement virtually any logic circuit using the Braket.\n"
   ]
  },
  {
   "cell_type": "markdown",
   "id": "0ea9b75d",
   "metadata": {},
   "source": [
    "##### Importing necessary Libraries"
   ]
  },
  {
   "cell_type": "code",
   "execution_count": 5,
   "id": "a3b3261c",
   "metadata": {},
   "outputs": [],
   "source": [
    "import boto3\n",
    "from braket.circuits import Circuit\n",
    "from braket.aws import AwsDevice\n",
    "import matplotlib.pyplot as plt\n",
    "from braket.devices import LocalSimulator"
   ]
  },
  {
   "cell_type": "markdown",
   "id": "d805bca8",
   "metadata": {},
   "source": [
    "##### Accessing the AWS account and initialising the Braket device to run the circuits"
   ]
  },
  {
   "cell_type": "code",
   "execution_count": 6,
   "id": "a089db27",
   "metadata": {},
   "outputs": [],
   "source": [
    "aws_account_id = boto3.client(\"sts\").get_caller_identity()[\"Account\"]"
   ]
  },
  {
   "cell_type": "code",
   "execution_count": 7,
   "id": "c3d6caeb",
   "metadata": {},
   "outputs": [],
   "source": [
    "#device = AwsDevice('arn:aws:braket:::device/quantum-simulator/amazon/sv1')\n",
    "device = LocalSimulator()"
   ]
  },
  {
   "cell_type": "code",
   "execution_count": 8,
   "id": "ee4e4cc6",
   "metadata": {},
   "outputs": [],
   "source": [
    "#s3_folder = (f\"amazon-braket-7aaad4cbb8e5\",\"Simulator\")"
   ]
  },
  {
   "cell_type": "markdown",
   "id": "5a848f2a",
   "metadata": {},
   "source": [
    "### NAND Gate"
   ]
  },
  {
   "cell_type": "markdown",
   "id": "7e078c78",
   "metadata": {},
   "source": [
    "![alt text](images/nand.png \"Title\")"
   ]
  },
  {
   "cell_type": "code",
   "execution_count": 12,
   "id": "6e0e6ab1",
   "metadata": {},
   "outputs": [],
   "source": [
    "def NAND_GATE(a,b):\n",
    "    final = []\n",
    "    for i in range(len(a)):\n",
    "        final.append(int(a[i]))\n",
    "        final.append(int(b[i]))\n",
    "        final.append(1)\n",
    "    rev = []\n",
    "    for i in range(len(final)):\n",
    "        if final[i] == 1:\n",
    "            rev.append(i)\n",
    "    tofoli = Circuit().x(rev)\n",
    "    for qubit in range(0,len(final)-2,3):\n",
    "        tofoli.ccnot(qubit,qubit+1,qubit+2)\n",
    "    counts = device.run(tofoli, shots = 1).result().measurement_counts\n",
    "    res = \"\"\n",
    "    for key, value in counts.items():\n",
    "        for i in range(2,len(final),3):\n",
    "            res += key[i]\n",
    "    return res"
   ]
  },
  {
   "cell_type": "markdown",
   "id": "933db5c9",
   "metadata": {},
   "source": [
    "- > **Tofoli Gate acts as a NAND gate when the target bit is set to 1.**\n",
    "- > **Here we have implemented NAND Gate from Tofoli gate and simulated different Classical circuits using NAND as it is a Universal Gate.**"
   ]
  },
  {
   "cell_type": "markdown",
   "id": "cc1659b3",
   "metadata": {},
   "source": [
    "### AND Gate"
   ]
  },
  {
   "cell_type": "markdown",
   "id": "05b08cdb",
   "metadata": {},
   "source": [
    "![alt text](images/nand-gate6-2cb60496.png \"Title\")"
   ]
  },
  {
   "cell_type": "code",
   "execution_count": 16,
   "id": "f54e8f22",
   "metadata": {},
   "outputs": [],
   "source": [
    "def AND_GATE(a,b):\n",
    "    out = NAND_GATE(a,b)\n",
    "    return NAND_GATE(out,out)"
   ]
  },
  {
   "cell_type": "code",
   "execution_count": 18,
   "id": "5af936f0",
   "metadata": {},
   "outputs": [
    {
     "name": "stdout",
     "output_type": "stream",
     "text": [
      "Enter the first number: 10110\n",
      "Enter the second number: 11100\n",
      "10110 AND 11100 = 10100\n"
     ]
    }
   ],
   "source": [
    "a = input(\"Enter the first number: \")\n",
    "b = input(\"Enter the second number: \")\n",
    "out = AND_GATE(a,b)\n",
    "print(\"{} AND {} = {}\".format(a,b,out))"
   ]
  },
  {
   "cell_type": "markdown",
   "id": "5a449910",
   "metadata": {},
   "source": [
    "### OR Gate"
   ]
  },
  {
   "cell_type": "markdown",
   "id": "e07194b0",
   "metadata": {},
   "source": [
    "![alt text](images/or-gate-using-nand-gates.png \"Title\")"
   ]
  },
  {
   "cell_type": "code",
   "execution_count": 20,
   "id": "cbce8746",
   "metadata": {},
   "outputs": [],
   "source": [
    "def OR_GATE(a,b):\n",
    "    c = NAND_GATE(a,a)\n",
    "    d = NAND_GATE(b,b)\n",
    "    return NAND_GATE(c,d)"
   ]
  },
  {
   "cell_type": "code",
   "execution_count": 21,
   "id": "02cb8d15",
   "metadata": {},
   "outputs": [
    {
     "name": "stdout",
     "output_type": "stream",
     "text": [
      "Enter the first number: 10110\n",
      "Enter the second number: 11100\n",
      "10110 OR 11100 = 11110\n"
     ]
    }
   ],
   "source": [
    "a = input(\"Enter the first number: \")\n",
    "b = input(\"Enter the second number: \")\n",
    "\n",
    "out = OR_GATE(a,b)\n",
    "print(\"{} OR {} = {}\".format(a,b,out))"
   ]
  },
  {
   "cell_type": "markdown",
   "id": "8f4bff75",
   "metadata": {},
   "source": [
    "### HALF-ADDER"
   ]
  },
  {
   "cell_type": "markdown",
   "id": "b7c42553",
   "metadata": {},
   "source": [
    "![alt text](images/halfadder.jpg \"Title\")"
   ]
  },
  {
   "cell_type": "code",
   "execution_count": 25,
   "id": "1aa9749b",
   "metadata": {},
   "outputs": [],
   "source": [
    "def HALF_ADDER(a,b):\n",
    "    ab = NAND_GATE(a,b)\n",
    "    c = NAND_GATE(a,ab)\n",
    "    d = NAND_GATE(b,ab)\n",
    "    sum = NAND_GATE(c,d)\n",
    "    carry = NAND_GATE(ab,ab)\n",
    "    return sum,carry"
   ]
  },
  {
   "cell_type": "markdown",
   "id": "3b28819a",
   "metadata": {},
   "source": [
    "##### For 1-bit"
   ]
  },
  {
   "cell_type": "code",
   "execution_count": 28,
   "id": "18805fe6",
   "metadata": {},
   "outputs": [
    {
     "name": "stdout",
     "output_type": "stream",
     "text": [
      "Enter the first number: 1\n",
      "Enter the second number: 0\n",
      "Sum = 1 and Carry = 0 when 1 and 0 is added using Half Adder\n"
     ]
    }
   ],
   "source": [
    "a = input(\"Enter the first number: \")\n",
    "b = input(\"Enter the second number: \")\n",
    "sum,carry = HALF_ADDER(a,b)\n",
    "print(\"Sum = {} and Carry = {} when {} and {} is added using Half Adder\".format(sum,carry,a,b))"
   ]
  },
  {
   "cell_type": "markdown",
   "id": "7e7ed2ea",
   "metadata": {},
   "source": [
    "##### For n-bits"
   ]
  },
  {
   "cell_type": "code",
   "execution_count": 27,
   "id": "77539058",
   "metadata": {},
   "outputs": [
    {
     "name": "stdout",
     "output_type": "stream",
     "text": [
      "Enter the first number: 111\n",
      "Enter the second number: 111\n",
      "Sum = 000 and Carry = 111 when 111 and 111 is added using Half Adder\n"
     ]
    }
   ],
   "source": [
    "a = input(\"Enter the first number: \")\n",
    "b = input(\"Enter the second number: \")\n",
    "sum,carry = HALF_ADDER(a,b)\n",
    "print(\"Sum = {} and Carry = {} when {} and {} is added using Half Adder\".format(sum,carry,a,b))"
   ]
  },
  {
   "cell_type": "markdown",
   "id": "8a72b552",
   "metadata": {},
   "source": [
    "- > **From the above calculation we can see that Half Adder cannot be used as a binary adder as it doesn't have provision for carry-in from the previous circuit when adding together multiple data bit**\n",
    "- > **We can overcome this with the help of a Full Adder**"
   ]
  },
  {
   "cell_type": "markdown",
   "id": "b60df500",
   "metadata": {},
   "source": [
    "### FULL-ADDER"
   ]
  },
  {
   "cell_type": "markdown",
   "id": "e44def7b",
   "metadata": {},
   "source": [
    "![alt text](images/fulladder.jpg \"Title\")"
   ]
  },
  {
   "cell_type": "code",
   "execution_count": 22,
   "id": "1d6294a6",
   "metadata": {},
   "outputs": [],
   "source": [
    "def FULL_ADDER(x,y,cin):\n",
    "    xy = NAND_GATE(x,y)\n",
    "    xxy = NAND_GATE(x,xy)\n",
    "    yxy = NAND_GATE(y,xy)\n",
    "    a = NAND_GATE(xxy,yxy)\n",
    "    b = NAND_GATE(a,cin)\n",
    "    ab = NAND_GATE(a,b)\n",
    "    c = NAND_GATE(b,cin)\n",
    "    sum = NAND_GATE(ab,c)\n",
    "    carry = NAND_GATE(b,xy)\n",
    "    return sum,carry\n",
    "    "
   ]
  },
  {
   "cell_type": "markdown",
   "id": "3a1beced",
   "metadata": {},
   "source": [
    "##### For 1-bit"
   ]
  },
  {
   "cell_type": "code",
   "execution_count": 29,
   "id": "449e6491",
   "metadata": {},
   "outputs": [
    {
     "name": "stdout",
     "output_type": "stream",
     "text": [
      "Enter the first number: 1\n",
      "Enter the second number: 1\n",
      "Enter the input carry: 1\n",
      "Sum = 1 and Carry = 1 when 1 and 1 is added using Full Adder with input carry 1\n"
     ]
    }
   ],
   "source": [
    "a = input(\"Enter the first number: \")\n",
    "b = input(\"Enter the second number: \")\n",
    "cin = input(\"Enter the input carry: \")\n",
    "sum,carry = FULL_ADDER(a,b,cin)\n",
    "print(\"Sum = {} and Carry = {} when {} and {} is added using Full Adder with input carry {}\".format(sum,carry,a,b,cin))"
   ]
  },
  {
   "cell_type": "markdown",
   "id": "45a4a42d",
   "metadata": {},
   "source": [
    "##### For n-bits\n",
    "### BINARY-ADDER"
   ]
  },
  {
   "cell_type": "markdown",
   "id": "504b0804",
   "metadata": {},
   "source": [
    "Full adder is a simple 1–bit adder. If we want to perform n–bit addition, then we need ‘n’ number of 1–bit full adders should be used in the form of a cascade connection."
   ]
  },
  {
   "cell_type": "code",
   "execution_count": 51,
   "id": "ad363c3e",
   "metadata": {},
   "outputs": [],
   "source": [
    "def BINARY_ADDER(x,y,cin):\n",
    "    sum = \"\"\n",
    "    for i in range(len(x)):\n",
    "        if i == 0:\n",
    "            carry = cin\n",
    "        out,carry = FULL_ADDER(x[-(i+1)],y[-(i+1)],carry)\n",
    "        sum += out\n",
    "    return sum[::-1],carry\n",
    "    \n",
    "   "
   ]
  },
  {
   "cell_type": "code",
   "execution_count": 53,
   "id": "9d9164f0",
   "metadata": {},
   "outputs": [
    {
     "name": "stdout",
     "output_type": "stream",
     "text": [
      "Enter the first number: 12\n",
      "Enter the second number: 13\n",
      "12 + 13 = 25\n"
     ]
    }
   ],
   "source": [
    "a = int(input(\"Enter the first number: \"))\n",
    "b = int(input(\"Enter the second number: \"))\n",
    "x = bin(a).replace(\"0b\", \"\")\n",
    "y = bin(b).replace(\"0b\", \"\")\n",
    "x=x.zfill(max(len(x), len(y)))\n",
    "y=y.zfill(max(len(x), len(y)))\n",
    "sum,carry = BINARY_ADDER(x,y,'0')\n",
    "out = carry+sum\n",
    "out = int(out,2)\n",
    "print(\"{} + {} = {}\".format(a,b,out))"
   ]
  }
 ],
 "metadata": {
  "kernelspec": {
   "display_name": "Python 3",
   "language": "python",
   "name": "python3"
  },
  "language_info": {
   "codemirror_mode": {
    "name": "ipython",
    "version": 3
   },
   "file_extension": ".py",
   "mimetype": "text/x-python",
   "name": "python",
   "nbconvert_exporter": "python",
   "pygments_lexer": "ipython3",
   "version": "3.8.8"
  }
 },
 "nbformat": 4,
 "nbformat_minor": 5
}
